{
 "cells": [
  {
   "cell_type": "code",
   "execution_count": null,
   "metadata": {
    "collapsed": true
   },
   "outputs": [],
   "source": [
    "pokemon_df.columns = [col.replace(' ', '_').replace('.', '').lower() \\\n",
    "                      for col in pokemon_df.columns]\n",
    "\n",
    "pokemon_df['type_2'] = pokemon_df['type_2'].fillna(pokemon_df['type_1'])\n",
    "\n"
   ]
  },
  {
   "cell_type": "code",
   "execution_count": null,
   "metadata": {
    "collapsed": true
   },
   "outputs": [],
   "source": [
    "# First make 3 copies of the pokemon_df dataframe\n",
    "df_1 = pokemon_df.copy()\n",
    "df_2 = pokemon_df.copy()\n",
    "df_w = pokemon_df.copy()\n",
    "\n",
    "# Rename the columns to be able to index by first, second, and winner\n",
    "df_1.columns = [col + '_1' for col in pokemon_df.columns]\n",
    "df_2.columns = [col + '_2' for col in pokemon_df.columns]\n",
    "df_w.columns = [col + '_w' for col in pokemon_df.columns]\n",
    "\n",
    "# Merge the 3 dataframes together\n",
    "join_1 = pd.merge(combat_df, df_1, left_on='First_pokemon', right_on='#_1')\n",
    "join_2 = pd.merge(join_1, df_2, left_on='Second_pokemon', right_on='#_2')\n",
    "connected_df = pd.merge(join_2, df_w[['#_w', 'name_w', 'type_overall_w']], left_on='Winner', right_on='#_w')\n",
    "\n"
   ]
  },
  {
   "cell_type": "code",
   "execution_count": 1,
   "metadata": {},
   "outputs": [
    {
     "ename": "NameError",
     "evalue": "name 'df_1' is not defined",
     "output_type": "error",
     "traceback": [
      "\u001b[0;31m---------------------------------------------------------------------------\u001b[0m",
      "\u001b[0;31mNameError\u001b[0m                                 Traceback (most recent call last)",
      "\u001b[0;32m<ipython-input-1-6978b9afb1e3>\u001b[0m in \u001b[0;36m<module>\u001b[0;34m()\u001b[0m\n\u001b[0;32m----> 1\u001b[0;31m \u001b[0mdf_1\u001b[0m\u001b[0;34m.\u001b[0m\u001b[0mhead\u001b[0m\u001b[0;34m(\u001b[0m\u001b[0;34m)\u001b[0m\u001b[0;34m\u001b[0m\u001b[0m\n\u001b[0m",
      "\u001b[0;31mNameError\u001b[0m: name 'df_1' is not defined"
     ]
    }
   ],
   "source": [
    "\n",
    "# Create pipeline object\n",
    "pipe = make_pipeline(\n",
    "    FeatureExtractor('diameter'),\n",
    "    PolynomialFeatures(3, include_bias=False),\n",
    "    StandardScaler(),\n",
    "    LogisticRegression()\n",
    ")"
   ]
  },
  {
   "cell_type": "code",
   "execution_count": null,
   "metadata": {
    "collapsed": true
   },
   "outputs": [],
   "source": []
  }
 ],
 "metadata": {
  "kernelspec": {
   "display_name": "Python 3",
   "language": "python",
   "name": "python3"
  },
  "language_info": {
   "codemirror_mode": {
    "name": "ipython",
    "version": 3
   },
   "file_extension": ".py",
   "mimetype": "text/x-python",
   "name": "python",
   "nbconvert_exporter": "python",
   "pygments_lexer": "ipython3",
   "version": "3.6.1"
  }
 },
 "nbformat": 4,
 "nbformat_minor": 2
}
